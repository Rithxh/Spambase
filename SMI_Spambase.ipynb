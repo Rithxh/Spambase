{
  "nbformat": 4,
  "nbformat_minor": 0,
  "metadata": {
    "colab": {
      "provenance": []
    },
    "kernelspec": {
      "name": "python3",
      "display_name": "Python 3"
    },
    "language_info": {
      "name": "python"
    }
  },
  "cells": [
    {
      "cell_type": "code",
      "execution_count": null,
      "metadata": {
        "id": "JiBtujdV1qKl"
      },
      "outputs": [],
      "source": [
        "import pandas as pd\n",
        "import numpy as np\n",
        "import matplotlib.pyplot as plt\n",
        "import seaborn as sns\n",
        "import time\n",
        "from imblearn.over_sampling import SMOTE"
      ]
    },
    {
      "cell_type": "code",
      "source": [
        "from google.colab import drive\n",
        "drive.mount('/content/drive')"
      ],
      "metadata": {
        "colab": {
          "base_uri": "https://localhost:8080/"
        },
        "id": "Zm_bOPnl3iry",
        "outputId": "fc422dad-1aec-4247-91ad-5d2d375b8493"
      },
      "execution_count": null,
      "outputs": [
        {
          "output_type": "stream",
          "name": "stdout",
          "text": [
            "Drive already mounted at /content/drive; to attempt to forcibly remount, call drive.mount(\"/content/drive\", force_remount=True).\n"
          ]
        }
      ]
    },
    {
      "cell_type": "code",
      "source": [
        "cols=\"\"\"word_freq_make,\n",
        "word_freq_address,      \n",
        "word_freq_all,          \n",
        "word_freq_3d,           \n",
        "word_freq_our,          \n",
        "word_freq_over,         \n",
        "word_freq_remove,       \n",
        "word_freq_internet,     \n",
        "word_freq_order,        \n",
        "word_freq_mail,         \n",
        "word_freq_receive,      \n",
        "word_freq_will,         \n",
        "word_freq_people,       \n",
        "word_freq_report,       \n",
        "word_freq_addresses,    \n",
        "word_freq_free,         \n",
        "word_freq_business,     \n",
        "word_freq_email,        \n",
        "word_freq_you,          \n",
        "word_freq_credit,       \n",
        "word_freq_your,         \n",
        "word_freq_font,         \n",
        "word_freq_000,          \n",
        "word_freq_money,        \n",
        "word_freq_hp,           \n",
        "word_freq_hpl,          \n",
        "word_freq_george,       \n",
        "word_freq_650,          \n",
        "word_freq_lab,          \n",
        "word_freq_labs,         \n",
        "word_freq_telnet,       \n",
        "word_freq_857,          \n",
        "word_freq_data,         \n",
        "word_freq_415,          \n",
        "word_freq_85,           \n",
        "word_freq_technology,   \n",
        "word_freq_1999,         \n",
        "word_freq_parts,        \n",
        "word_freq_pm,           \n",
        "word_freq_direct,       \n",
        "word_freq_cs,           \n",
        "word_freq_meeting,      \n",
        "word_freq_original,     \n",
        "word_freq_project,      \n",
        "word_freq_re,           \n",
        "word_freq_edu,          \n",
        "word_freq_table,        \n",
        "word_freq_conference,   \n",
        "char_freq_;,            \n",
        "char_freq_(,            \n",
        "char_freq_[,            \n",
        "char_freq_!,            \n",
        "char_freq_$,            \n",
        "char_freq_#,            \n",
        "capital_run_length_average, \n",
        "capital_run_length_longest, \n",
        "capital_run_length_total\"\"\"\n",
        "\n",
        "columns=[]\n",
        "for c in cols.split(','):\n",
        "  if(c.strip()):\n",
        "    columns.append(c.strip())\n",
        "columns.append('Spam')\n"
      ],
      "metadata": {
        "id": "Stt5qS4d46rj"
      },
      "execution_count": null,
      "outputs": []
    },
    {
      "cell_type": "code",
      "source": [
        "print(len(columns))"
      ],
      "metadata": {
        "colab": {
          "base_uri": "https://localhost:8080/"
        },
        "id": "h9t3WM9Y7Emo",
        "outputId": "3929eb08-9017-446f-98c9-3208051d8f61"
      },
      "execution_count": null,
      "outputs": [
        {
          "output_type": "stream",
          "name": "stdout",
          "text": [
            "58\n"
          ]
        }
      ]
    },
    {
      "cell_type": "code",
      "source": [
        "df=pd.read_csv('/content/drive/MyDrive/spambase/spambase.data',names=columns)"
      ],
      "metadata": {
        "id": "LU_iCi_p3jON"
      },
      "execution_count": null,
      "outputs": []
    },
    {
      "cell_type": "code",
      "source": [
        "df.head()"
      ],
      "metadata": {
        "colab": {
          "base_uri": "https://localhost:8080/",
          "height": 299
        },
        "id": "4my-QxlZ66v6",
        "outputId": "383941f3-67c6-48cc-fb72-c762774160fd"
      },
      "execution_count": null,
      "outputs": [
        {
          "output_type": "execute_result",
          "data": {
            "text/plain": [
              "   word_freq_make  word_freq_address  word_freq_all  word_freq_3d  \\\n",
              "0            0.00               0.64           0.64           0.0   \n",
              "1            0.21               0.28           0.50           0.0   \n",
              "2            0.06               0.00           0.71           0.0   \n",
              "3            0.00               0.00           0.00           0.0   \n",
              "4            0.00               0.00           0.00           0.0   \n",
              "\n",
              "   word_freq_our  word_freq_over  word_freq_remove  word_freq_internet  \\\n",
              "0           0.32            0.00              0.00                0.00   \n",
              "1           0.14            0.28              0.21                0.07   \n",
              "2           1.23            0.19              0.19                0.12   \n",
              "3           0.63            0.00              0.31                0.63   \n",
              "4           0.63            0.00              0.31                0.63   \n",
              "\n",
              "   word_freq_order  word_freq_mail  ...  char_freq_;  char_freq_(  \\\n",
              "0             0.00            0.00  ...         0.00        0.000   \n",
              "1             0.00            0.94  ...         0.00        0.132   \n",
              "2             0.64            0.25  ...         0.01        0.143   \n",
              "3             0.31            0.63  ...         0.00        0.137   \n",
              "4             0.31            0.63  ...         0.00        0.135   \n",
              "\n",
              "   char_freq_[  char_freq_!  char_freq_$  char_freq_#  \\\n",
              "0          0.0        0.778        0.000        0.000   \n",
              "1          0.0        0.372        0.180        0.048   \n",
              "2          0.0        0.276        0.184        0.010   \n",
              "3          0.0        0.137        0.000        0.000   \n",
              "4          0.0        0.135        0.000        0.000   \n",
              "\n",
              "   capital_run_length_average  capital_run_length_longest  \\\n",
              "0                       3.756                          61   \n",
              "1                       5.114                         101   \n",
              "2                       9.821                         485   \n",
              "3                       3.537                          40   \n",
              "4                       3.537                          40   \n",
              "\n",
              "   capital_run_length_total  Spam  \n",
              "0                       278     1  \n",
              "1                      1028     1  \n",
              "2                      2259     1  \n",
              "3                       191     1  \n",
              "4                       191     1  \n",
              "\n",
              "[5 rows x 58 columns]"
            ],
            "text/html": [
              "\n",
              "  <div id=\"df-abb3c472-72d0-479d-ac60-8e4264b6a961\">\n",
              "    <div class=\"colab-df-container\">\n",
              "      <div>\n",
              "<style scoped>\n",
              "    .dataframe tbody tr th:only-of-type {\n",
              "        vertical-align: middle;\n",
              "    }\n",
              "\n",
              "    .dataframe tbody tr th {\n",
              "        vertical-align: top;\n",
              "    }\n",
              "\n",
              "    .dataframe thead th {\n",
              "        text-align: right;\n",
              "    }\n",
              "</style>\n",
              "<table border=\"1\" class=\"dataframe\">\n",
              "  <thead>\n",
              "    <tr style=\"text-align: right;\">\n",
              "      <th></th>\n",
              "      <th>word_freq_make</th>\n",
              "      <th>word_freq_address</th>\n",
              "      <th>word_freq_all</th>\n",
              "      <th>word_freq_3d</th>\n",
              "      <th>word_freq_our</th>\n",
              "      <th>word_freq_over</th>\n",
              "      <th>word_freq_remove</th>\n",
              "      <th>word_freq_internet</th>\n",
              "      <th>word_freq_order</th>\n",
              "      <th>word_freq_mail</th>\n",
              "      <th>...</th>\n",
              "      <th>char_freq_;</th>\n",
              "      <th>char_freq_(</th>\n",
              "      <th>char_freq_[</th>\n",
              "      <th>char_freq_!</th>\n",
              "      <th>char_freq_$</th>\n",
              "      <th>char_freq_#</th>\n",
              "      <th>capital_run_length_average</th>\n",
              "      <th>capital_run_length_longest</th>\n",
              "      <th>capital_run_length_total</th>\n",
              "      <th>Spam</th>\n",
              "    </tr>\n",
              "  </thead>\n",
              "  <tbody>\n",
              "    <tr>\n",
              "      <th>0</th>\n",
              "      <td>0.00</td>\n",
              "      <td>0.64</td>\n",
              "      <td>0.64</td>\n",
              "      <td>0.0</td>\n",
              "      <td>0.32</td>\n",
              "      <td>0.00</td>\n",
              "      <td>0.00</td>\n",
              "      <td>0.00</td>\n",
              "      <td>0.00</td>\n",
              "      <td>0.00</td>\n",
              "      <td>...</td>\n",
              "      <td>0.00</td>\n",
              "      <td>0.000</td>\n",
              "      <td>0.0</td>\n",
              "      <td>0.778</td>\n",
              "      <td>0.000</td>\n",
              "      <td>0.000</td>\n",
              "      <td>3.756</td>\n",
              "      <td>61</td>\n",
              "      <td>278</td>\n",
              "      <td>1</td>\n",
              "    </tr>\n",
              "    <tr>\n",
              "      <th>1</th>\n",
              "      <td>0.21</td>\n",
              "      <td>0.28</td>\n",
              "      <td>0.50</td>\n",
              "      <td>0.0</td>\n",
              "      <td>0.14</td>\n",
              "      <td>0.28</td>\n",
              "      <td>0.21</td>\n",
              "      <td>0.07</td>\n",
              "      <td>0.00</td>\n",
              "      <td>0.94</td>\n",
              "      <td>...</td>\n",
              "      <td>0.00</td>\n",
              "      <td>0.132</td>\n",
              "      <td>0.0</td>\n",
              "      <td>0.372</td>\n",
              "      <td>0.180</td>\n",
              "      <td>0.048</td>\n",
              "      <td>5.114</td>\n",
              "      <td>101</td>\n",
              "      <td>1028</td>\n",
              "      <td>1</td>\n",
              "    </tr>\n",
              "    <tr>\n",
              "      <th>2</th>\n",
              "      <td>0.06</td>\n",
              "      <td>0.00</td>\n",
              "      <td>0.71</td>\n",
              "      <td>0.0</td>\n",
              "      <td>1.23</td>\n",
              "      <td>0.19</td>\n",
              "      <td>0.19</td>\n",
              "      <td>0.12</td>\n",
              "      <td>0.64</td>\n",
              "      <td>0.25</td>\n",
              "      <td>...</td>\n",
              "      <td>0.01</td>\n",
              "      <td>0.143</td>\n",
              "      <td>0.0</td>\n",
              "      <td>0.276</td>\n",
              "      <td>0.184</td>\n",
              "      <td>0.010</td>\n",
              "      <td>9.821</td>\n",
              "      <td>485</td>\n",
              "      <td>2259</td>\n",
              "      <td>1</td>\n",
              "    </tr>\n",
              "    <tr>\n",
              "      <th>3</th>\n",
              "      <td>0.00</td>\n",
              "      <td>0.00</td>\n",
              "      <td>0.00</td>\n",
              "      <td>0.0</td>\n",
              "      <td>0.63</td>\n",
              "      <td>0.00</td>\n",
              "      <td>0.31</td>\n",
              "      <td>0.63</td>\n",
              "      <td>0.31</td>\n",
              "      <td>0.63</td>\n",
              "      <td>...</td>\n",
              "      <td>0.00</td>\n",
              "      <td>0.137</td>\n",
              "      <td>0.0</td>\n",
              "      <td>0.137</td>\n",
              "      <td>0.000</td>\n",
              "      <td>0.000</td>\n",
              "      <td>3.537</td>\n",
              "      <td>40</td>\n",
              "      <td>191</td>\n",
              "      <td>1</td>\n",
              "    </tr>\n",
              "    <tr>\n",
              "      <th>4</th>\n",
              "      <td>0.00</td>\n",
              "      <td>0.00</td>\n",
              "      <td>0.00</td>\n",
              "      <td>0.0</td>\n",
              "      <td>0.63</td>\n",
              "      <td>0.00</td>\n",
              "      <td>0.31</td>\n",
              "      <td>0.63</td>\n",
              "      <td>0.31</td>\n",
              "      <td>0.63</td>\n",
              "      <td>...</td>\n",
              "      <td>0.00</td>\n",
              "      <td>0.135</td>\n",
              "      <td>0.0</td>\n",
              "      <td>0.135</td>\n",
              "      <td>0.000</td>\n",
              "      <td>0.000</td>\n",
              "      <td>3.537</td>\n",
              "      <td>40</td>\n",
              "      <td>191</td>\n",
              "      <td>1</td>\n",
              "    </tr>\n",
              "  </tbody>\n",
              "</table>\n",
              "<p>5 rows × 58 columns</p>\n",
              "</div>\n",
              "      <button class=\"colab-df-convert\" onclick=\"convertToInteractive('df-abb3c472-72d0-479d-ac60-8e4264b6a961')\"\n",
              "              title=\"Convert this dataframe to an interactive table.\"\n",
              "              style=\"display:none;\">\n",
              "        \n",
              "  <svg xmlns=\"http://www.w3.org/2000/svg\" height=\"24px\"viewBox=\"0 0 24 24\"\n",
              "       width=\"24px\">\n",
              "    <path d=\"M0 0h24v24H0V0z\" fill=\"none\"/>\n",
              "    <path d=\"M18.56 5.44l.94 2.06.94-2.06 2.06-.94-2.06-.94-.94-2.06-.94 2.06-2.06.94zm-11 1L8.5 8.5l.94-2.06 2.06-.94-2.06-.94L8.5 2.5l-.94 2.06-2.06.94zm10 10l.94 2.06.94-2.06 2.06-.94-2.06-.94-.94-2.06-.94 2.06-2.06.94z\"/><path d=\"M17.41 7.96l-1.37-1.37c-.4-.4-.92-.59-1.43-.59-.52 0-1.04.2-1.43.59L10.3 9.45l-7.72 7.72c-.78.78-.78 2.05 0 2.83L4 21.41c.39.39.9.59 1.41.59.51 0 1.02-.2 1.41-.59l7.78-7.78 2.81-2.81c.8-.78.8-2.07 0-2.86zM5.41 20L4 18.59l7.72-7.72 1.47 1.35L5.41 20z\"/>\n",
              "  </svg>\n",
              "      </button>\n",
              "      \n",
              "  <style>\n",
              "    .colab-df-container {\n",
              "      display:flex;\n",
              "      flex-wrap:wrap;\n",
              "      gap: 12px;\n",
              "    }\n",
              "\n",
              "    .colab-df-convert {\n",
              "      background-color: #E8F0FE;\n",
              "      border: none;\n",
              "      border-radius: 50%;\n",
              "      cursor: pointer;\n",
              "      display: none;\n",
              "      fill: #1967D2;\n",
              "      height: 32px;\n",
              "      padding: 0 0 0 0;\n",
              "      width: 32px;\n",
              "    }\n",
              "\n",
              "    .colab-df-convert:hover {\n",
              "      background-color: #E2EBFA;\n",
              "      box-shadow: 0px 1px 2px rgba(60, 64, 67, 0.3), 0px 1px 3px 1px rgba(60, 64, 67, 0.15);\n",
              "      fill: #174EA6;\n",
              "    }\n",
              "\n",
              "    [theme=dark] .colab-df-convert {\n",
              "      background-color: #3B4455;\n",
              "      fill: #D2E3FC;\n",
              "    }\n",
              "\n",
              "    [theme=dark] .colab-df-convert:hover {\n",
              "      background-color: #434B5C;\n",
              "      box-shadow: 0px 1px 3px 1px rgba(0, 0, 0, 0.15);\n",
              "      filter: drop-shadow(0px 1px 2px rgba(0, 0, 0, 0.3));\n",
              "      fill: #FFFFFF;\n",
              "    }\n",
              "  </style>\n",
              "\n",
              "      <script>\n",
              "        const buttonEl =\n",
              "          document.querySelector('#df-abb3c472-72d0-479d-ac60-8e4264b6a961 button.colab-df-convert');\n",
              "        buttonEl.style.display =\n",
              "          google.colab.kernel.accessAllowed ? 'block' : 'none';\n",
              "\n",
              "        async function convertToInteractive(key) {\n",
              "          const element = document.querySelector('#df-abb3c472-72d0-479d-ac60-8e4264b6a961');\n",
              "          const dataTable =\n",
              "            await google.colab.kernel.invokeFunction('convertToInteractive',\n",
              "                                                     [key], {});\n",
              "          if (!dataTable) return;\n",
              "\n",
              "          const docLinkHtml = 'Like what you see? Visit the ' +\n",
              "            '<a target=\"_blank\" href=https://colab.research.google.com/notebooks/data_table.ipynb>data table notebook</a>'\n",
              "            + ' to learn more about interactive tables.';\n",
              "          element.innerHTML = '';\n",
              "          dataTable['output_type'] = 'display_data';\n",
              "          await google.colab.output.renderOutput(dataTable, element);\n",
              "          const docLink = document.createElement('div');\n",
              "          docLink.innerHTML = docLinkHtml;\n",
              "          element.appendChild(docLink);\n",
              "        }\n",
              "      </script>\n",
              "    </div>\n",
              "  </div>\n",
              "  "
            ]
          },
          "metadata": {},
          "execution_count": 6
        }
      ]
    },
    {
      "cell_type": "code",
      "source": [
        "df.shape"
      ],
      "metadata": {
        "colab": {
          "base_uri": "https://localhost:8080/"
        },
        "id": "9-sIeVUA8O6G",
        "outputId": "4c9b2fa0-700b-4dd0-f52e-20976caa2651"
      },
      "execution_count": null,
      "outputs": [
        {
          "output_type": "execute_result",
          "data": {
            "text/plain": [
              "(4601, 58)"
            ]
          },
          "metadata": {},
          "execution_count": 7
        }
      ]
    },
    {
      "cell_type": "code",
      "source": [
        "df.dtypes"
      ],
      "metadata": {
        "colab": {
          "base_uri": "https://localhost:8080/"
        },
        "id": "XHzFX2Mj8QrB",
        "outputId": "a6eb117e-1619-471e-8b5f-0ad97e187302"
      },
      "execution_count": null,
      "outputs": [
        {
          "output_type": "execute_result",
          "data": {
            "text/plain": [
              "word_freq_make                float64\n",
              "word_freq_address             float64\n",
              "word_freq_all                 float64\n",
              "word_freq_3d                  float64\n",
              "word_freq_our                 float64\n",
              "word_freq_over                float64\n",
              "word_freq_remove              float64\n",
              "word_freq_internet            float64\n",
              "word_freq_order               float64\n",
              "word_freq_mail                float64\n",
              "word_freq_receive             float64\n",
              "word_freq_will                float64\n",
              "word_freq_people              float64\n",
              "word_freq_report              float64\n",
              "word_freq_addresses           float64\n",
              "word_freq_free                float64\n",
              "word_freq_business            float64\n",
              "word_freq_email               float64\n",
              "word_freq_you                 float64\n",
              "word_freq_credit              float64\n",
              "word_freq_your                float64\n",
              "word_freq_font                float64\n",
              "word_freq_000                 float64\n",
              "word_freq_money               float64\n",
              "word_freq_hp                  float64\n",
              "word_freq_hpl                 float64\n",
              "word_freq_george              float64\n",
              "word_freq_650                 float64\n",
              "word_freq_lab                 float64\n",
              "word_freq_labs                float64\n",
              "word_freq_telnet              float64\n",
              "word_freq_857                 float64\n",
              "word_freq_data                float64\n",
              "word_freq_415                 float64\n",
              "word_freq_85                  float64\n",
              "word_freq_technology          float64\n",
              "word_freq_1999                float64\n",
              "word_freq_parts               float64\n",
              "word_freq_pm                  float64\n",
              "word_freq_direct              float64\n",
              "word_freq_cs                  float64\n",
              "word_freq_meeting             float64\n",
              "word_freq_original            float64\n",
              "word_freq_project             float64\n",
              "word_freq_re                  float64\n",
              "word_freq_edu                 float64\n",
              "word_freq_table               float64\n",
              "word_freq_conference          float64\n",
              "char_freq_;                   float64\n",
              "char_freq_(                   float64\n",
              "char_freq_[                   float64\n",
              "char_freq_!                   float64\n",
              "char_freq_$                   float64\n",
              "char_freq_#                   float64\n",
              "capital_run_length_average    float64\n",
              "capital_run_length_longest      int64\n",
              "capital_run_length_total        int64\n",
              "Spam                            int64\n",
              "dtype: object"
            ]
          },
          "metadata": {},
          "execution_count": 8
        }
      ]
    },
    {
      "cell_type": "code",
      "source": [
        "x=df.shape[0]\n",
        "df.drop_duplicates(inplace=True)\n",
        "if(df.shape[0]==x):\n",
        "  print(\"No duplicates\")\n",
        "else:\n",
        "  print(x-df.shape[0],\" duplicates removed\")"
      ],
      "metadata": {
        "colab": {
          "base_uri": "https://localhost:8080/"
        },
        "id": "syDa0flo8Dri",
        "outputId": "7e29b69e-96f2-4092-cf76-c7cfc5c4e00f"
      },
      "execution_count": null,
      "outputs": [
        {
          "output_type": "stream",
          "name": "stdout",
          "text": [
            "391  duplicates removed\n"
          ]
        }
      ]
    },
    {
      "cell_type": "code",
      "source": [
        "df.isnull().sum()"
      ],
      "metadata": {
        "colab": {
          "base_uri": "https://localhost:8080/"
        },
        "id": "W3i5cokk8r8H",
        "outputId": "13121168-479b-461b-d996-96b2645fdf74"
      },
      "execution_count": null,
      "outputs": [
        {
          "output_type": "execute_result",
          "data": {
            "text/plain": [
              "word_freq_make                0\n",
              "word_freq_address             0\n",
              "word_freq_all                 0\n",
              "word_freq_3d                  0\n",
              "word_freq_our                 0\n",
              "word_freq_over                0\n",
              "word_freq_remove              0\n",
              "word_freq_internet            0\n",
              "word_freq_order               0\n",
              "word_freq_mail                0\n",
              "word_freq_receive             0\n",
              "word_freq_will                0\n",
              "word_freq_people              0\n",
              "word_freq_report              0\n",
              "word_freq_addresses           0\n",
              "word_freq_free                0\n",
              "word_freq_business            0\n",
              "word_freq_email               0\n",
              "word_freq_you                 0\n",
              "word_freq_credit              0\n",
              "word_freq_your                0\n",
              "word_freq_font                0\n",
              "word_freq_000                 0\n",
              "word_freq_money               0\n",
              "word_freq_hp                  0\n",
              "word_freq_hpl                 0\n",
              "word_freq_george              0\n",
              "word_freq_650                 0\n",
              "word_freq_lab                 0\n",
              "word_freq_labs                0\n",
              "word_freq_telnet              0\n",
              "word_freq_857                 0\n",
              "word_freq_data                0\n",
              "word_freq_415                 0\n",
              "word_freq_85                  0\n",
              "word_freq_technology          0\n",
              "word_freq_1999                0\n",
              "word_freq_parts               0\n",
              "word_freq_pm                  0\n",
              "word_freq_direct              0\n",
              "word_freq_cs                  0\n",
              "word_freq_meeting             0\n",
              "word_freq_original            0\n",
              "word_freq_project             0\n",
              "word_freq_re                  0\n",
              "word_freq_edu                 0\n",
              "word_freq_table               0\n",
              "word_freq_conference          0\n",
              "char_freq_;                   0\n",
              "char_freq_(                   0\n",
              "char_freq_[                   0\n",
              "char_freq_!                   0\n",
              "char_freq_$                   0\n",
              "char_freq_#                   0\n",
              "capital_run_length_average    0\n",
              "capital_run_length_longest    0\n",
              "capital_run_length_total      0\n",
              "Spam                          0\n",
              "dtype: int64"
            ]
          },
          "metadata": {},
          "execution_count": 10
        }
      ]
    },
    {
      "cell_type": "code",
      "source": [
        "df['Spam'].value_counts().plot(kind='pie',autopct=\"%0.f%%\",fontsize=15,figsize=(7,7),startangle=45)"
      ],
      "metadata": {
        "colab": {
          "base_uri": "https://localhost:8080/",
          "height": 428
        },
        "id": "3Z0iQ0pIFC7a",
        "outputId": "a550ab14-0327-4c29-dfe0-a9b18dae2d76"
      },
      "execution_count": null,
      "outputs": [
        {
          "output_type": "execute_result",
          "data": {
            "text/plain": [
              "<matplotlib.axes._subplots.AxesSubplot at 0x7f42d8103410>"
            ]
          },
          "metadata": {},
          "execution_count": 11
        },
        {
          "output_type": "display_data",
          "data": {
            "text/plain": [
              "<Figure size 504x504 with 1 Axes>"
            ],
            "image/png": "[encoded data removed]"
          },
          "metadata": {}
        }
      ]
    },
    {
      "cell_type": "code",
      "source": [
        "print(df['Spam'].value_counts())\n",
        "\n",
        "xf = df.columns\n",
        "X = df.drop(['Spam'],axis=1)\n",
        "Y = df['Spam']\n",
        "\n",
        "smote = SMOTE()\n",
        "X, Y = smote.fit_resample(X, Y)\n",
        "\n",
        "df = pd.DataFrame(X, columns=xf)\n",
        "df['Spam'] = Y\n",
        "\n",
        "print('\\nClass distribution after applying SMOTE Technique:',)\n",
        "print(Y.value_counts())"
      ],
      "metadata": {
        "colab": {
          "base_uri": "https://localhost:8080/"
        },
        "id": "ZrQTLfkIJshD",
        "outputId": "565ac2f1-aafb-42bf-a840-188fcf8c7997"
      },
      "execution_count": null,
      "outputs": [
        {
          "output_type": "stream",
          "name": "stdout",
          "text": [
            "0    2531\n",
            "1    1679\n",
            "Name: Spam, dtype: int64\n",
            "\n",
            "Class distribution after applying SMOTE Technique:\n",
            "1    2531\n",
            "0    2531\n",
            "Name: Spam, dtype: int64\n"
          ]
        }
      ]
    },
    {
      "cell_type": "code",
      "source": [
        "from sklearn.model_selection import train_test_split\n",
        "from sklearn.preprocessing import MinMaxScaler\n",
        "from sklearn.metrics import accuracy_score"
      ],
      "metadata": {
        "id": "xgOVSO_cQvWo"
      },
      "execution_count": null,
      "outputs": []
    },
    {
      "cell_type": "code",
      "source": [
        "X = df.drop(['Spam'],axis=1)\n",
        "Y = df['Spam']\n",
        "\n",
        "scaler=MinMaxScaler()\n",
        "X=scaler.fit_transform(X)\n",
        "\n",
        "Train_X, Test_X, Train_Y, Test_Y = train_test_split(X, Y, train_size=0.8, test_size=0.2, random_state=0)"
      ],
      "metadata": {
        "id": "pMGwUWPPO5ge"
      },
      "execution_count": null,
      "outputs": []
    },
    {
      "cell_type": "code",
      "source": [
        "print(Train_X.shape, Test_X.shape)\n",
        "print(Train_Y.shape, Test_Y.shape)"
      ],
      "metadata": {
        "colab": {
          "base_uri": "https://localhost:8080/"
        },
        "id": "KMBRMixpSTd8",
        "outputId": "d6054f0d-ad83-4dff-e48d-91dd1e4c8edf"
      },
      "execution_count": null,
      "outputs": [
        {
          "output_type": "stream",
          "name": "stdout",
          "text": [
            "(4049, 57) (1013, 57)\n",
            "(4049,) (1013,)\n"
          ]
        }
      ]
    },
    {
      "cell_type": "code",
      "source": [
        "plt.figure(figsize=(10,10))\n",
        "sns.heatmap(df.corr())"
      ],
      "metadata": {
        "id": "mrCuz1fEVNGD",
        "outputId": "25c82223-8bf7-4316-da4b-babb17dbfc37",
        "colab": {
          "base_uri": "https://localhost:8080/",
          "height": 741
        }
      },
      "execution_count": null,
      "outputs": [
        {
          "output_type": "execute_result",
          "data": {
            "text/plain": [
              "<matplotlib.axes._subplots.AxesSubplot at 0x7f42d8126fd0>"
            ]
          },
          "metadata": {},
          "execution_count": 16
        },
        {
          "output_type": "display_data",
          "data": {
            "text/plain": [
              "<Figure size 720x720 with 2 Axes>"
            ],
            "image/png": "[encoded data removed]"
          },
          "metadata": {
            "needs_background": "light"
          }
        }
      ]
    },
    {
      "cell_type": "code",
      "source": [
        "from sklearn.linear_model import LogisticRegression\n",
        "\n",
        "model1 = LogisticRegression()\n",
        "\n",
        "model1.fit(Train_X, Train_Y)\n",
        "\n",
        "Test_Y_pred1 = model1.predict(Test_X)\n",
        "\n",
        "print(\"Train score is:\", model1.score(Train_X, Train_Y))\n",
        "print(\"Test score is:\",model1.score(Test_X,Test_Y))"
      ],
      "metadata": {
        "colab": {
          "base_uri": "https://localhost:8080/"
        },
        "id": "dx2N9hqvERdS",
        "outputId": "4b239c7b-fdb4-4cde-ebdd-2502d821dd96"
      },
      "execution_count": null,
      "outputs": [
        {
          "output_type": "stream",
          "name": "stdout",
          "text": [
            "Train score is: 0.901704124475179\n",
            "Test score is: 0.926949654491609\n"
          ]
        }
      ]
    },
    {
      "cell_type": "code",
      "source": [
        "from sklearn.svm import SVC\n",
        "\n",
        "model2 = SVC()\n",
        "\n",
        "model2.fit(Train_X, Train_Y.values.ravel())\n",
        "Test_Y_pred2 = model2.predict(Test_X)\n",
        "\n",
        "print(\"Train score is:\", model2.score(Train_X, Train_Y))\n",
        "print(\"Test score is:\", model2.score(Test_X,Test_Y))"
      ],
      "metadata": {
        "colab": {
          "base_uri": "https://localhost:8080/"
        },
        "id": "2kSLVaLkETN5",
        "outputId": "0477f1eb-5421-43f2-dc70-603494360042"
      },
      "execution_count": null,
      "outputs": [
        {
          "output_type": "stream",
          "name": "stdout",
          "text": [
            "Train score is: 0.9473944183749073\n",
            "Test score is: 0.9427443237907206\n"
          ]
        }
      ]
    },
    {
      "cell_type": "code",
      "source": [
        "import keras\n",
        "from keras import *\n",
        "from keras import layers\n",
        "from keras.layers import Embedding, Conv1D, GlobalMaxPooling2D, Dense, Dropout\n",
        "from keras.models import Model\n",
        "from keras.preprocessing import *\n",
        "from keras.preprocessing.text import Tokenizer\n",
        "from keras.wrappers.scikit_learn import KerasClassifier\n",
        "\n",
        "\n",
        "\n",
        "def fun():\n",
        "    model = keras.models.Sequential()\n",
        "    model.add(Dense(57,input_dim =57,activation = 'relu',kernel_initializer='random_uniform'))\n",
        "    model.add(Dense(8, activation='relu'))\n",
        "    model.add(Dense(1, activation='sigmoid'))            \n",
        "    model.compile(optimizer='adam',loss='binary_crossentropy',metrics=['accuracy'])\n",
        "    \n",
        "    return model\n",
        "\n",
        "model3 = KerasClassifier(build_fn=fun,epochs=100,batch_size=64)\n",
        "\n",
        "model3.fit(Train_X, Train_Y.values.ravel())\n",
        "\n",
        "Train_Y_pred3 = model3.predict(Train_X)\n",
        "Test_Y_pred3 = model3.predict(Test_X)\n",
        "\n",
        "print(\"Train score is:\", accuracy_score(Train_Y,Train_Y_pred3))\n",
        "print(\"Test score is:\", accuracy_score(Test_Y,Test_Y_pred3))"
      ],
      "metadata": {
        "colab": {
          "base_uri": "https://localhost:8080/"
        },
        "id": "P5Diq-2HEVNI",
        "outputId": "32afc5f2-01d7-404d-a5f9-1ce2f25a7576"
      },
      "execution_count": null,
      "outputs": [
        {
          "output_type": "stream",
          "name": "stderr",
          "text": [
            "/usr/local/lib/python3.7/dist-packages/ipykernel_launcher.py:21: DeprecationWarning: KerasClassifier is deprecated, use Sci-Keras (https://github.com/adriangb/scikeras) instead. See https://www.adriangb.com/scikeras/stable/migration.html for help migrating.\n"
          ]
        },
        {
          "output_type": "stream",
          "name": "stdout",
          "text": [
            "Epoch 1/100\n",
            "64/64 [==============================] - 2s 5ms/step - loss: 0.6439 - accuracy: 0.6276\n",
            "Epoch 2/100\n",
            "64/64 [==============================] - 0s 3ms/step - loss: 0.4693 - accuracy: 0.8592\n",
            "Epoch 3/100\n",
            "64/64 [==============================] - 0s 2ms/step - loss: 0.3383 - accuracy: 0.9042\n",
            "Epoch 4/100\n",
            "64/64 [==============================] - 0s 2ms/step - loss: 0.2776 - accuracy: 0.9145\n",
            "Epoch 5/100\n",
            "64/64 [==============================] - 0s 2ms/step - loss: 0.2432 - accuracy: 0.9229\n",
            "Epoch 6/100\n",
            "64/64 [==============================] - 0s 2ms/step - loss: 0.2266 - accuracy: 0.9247\n",
            "Epoch 7/100\n",
            "64/64 [==============================] - 0s 2ms/step - loss: 0.2161 - accuracy: 0.9269\n",
            "Epoch 8/100\n",
            "64/64 [==============================] - 0s 2ms/step - loss: 0.2061 - accuracy: 0.9304\n",
            "Epoch 9/100\n",
            "64/64 [==============================] - 0s 2ms/step - loss: 0.2004 - accuracy: 0.9336\n",
            "Epoch 10/100\n",
            "64/64 [==============================] - 0s 2ms/step - loss: 0.1945 - accuracy: 0.9316\n",
            "Epoch 11/100\n",
            "64/64 [==============================] - 0s 2ms/step - loss: 0.1907 - accuracy: 0.9331\n",
            "Epoch 12/100\n",
            "64/64 [==============================] - 0s 2ms/step - loss: 0.1884 - accuracy: 0.9333\n",
            "Epoch 13/100\n",
            "64/64 [==============================] - 0s 2ms/step - loss: 0.1834 - accuracy: 0.9350\n",
            "Epoch 14/100\n",
            "64/64 [==============================] - 0s 2ms/step - loss: 0.1802 - accuracy: 0.9331\n",
            "Epoch 15/100\n",
            "64/64 [==============================] - 0s 2ms/step - loss: 0.1781 - accuracy: 0.9348\n",
            "Epoch 16/100\n",
            "64/64 [==============================] - 0s 2ms/step - loss: 0.1764 - accuracy: 0.9363\n",
            "Epoch 17/100\n",
            "64/64 [==============================] - 0s 2ms/step - loss: 0.1744 - accuracy: 0.9365\n",
            "Epoch 18/100\n",
            "64/64 [==============================] - 0s 2ms/step - loss: 0.1705 - accuracy: 0.9402\n",
            "Epoch 19/100\n",
            "64/64 [==============================] - 0s 3ms/step - loss: 0.1691 - accuracy: 0.9410\n",
            "Epoch 20/100\n",
            "64/64 [==============================] - 0s 2ms/step - loss: 0.1669 - accuracy: 0.9420\n",
            "Epoch 21/100\n",
            "64/64 [==============================] - 0s 2ms/step - loss: 0.1643 - accuracy: 0.9417\n",
            "Epoch 22/100\n",
            "64/64 [==============================] - 0s 2ms/step - loss: 0.1643 - accuracy: 0.9420\n",
            "Epoch 23/100\n",
            "64/64 [==============================] - 0s 2ms/step - loss: 0.1605 - accuracy: 0.9442\n",
            "Epoch 24/100\n",
            "64/64 [==============================] - 0s 2ms/step - loss: 0.1593 - accuracy: 0.9442\n",
            "Epoch 25/100\n",
            "64/64 [==============================] - 0s 2ms/step - loss: 0.1575 - accuracy: 0.9442\n",
            "Epoch 26/100\n",
            "64/64 [==============================] - 0s 2ms/step - loss: 0.1558 - accuracy: 0.9442\n",
            "Epoch 27/100\n",
            "64/64 [==============================] - 0s 2ms/step - loss: 0.1547 - accuracy: 0.9427\n",
            "Epoch 28/100\n",
            "64/64 [==============================] - 0s 2ms/step - loss: 0.1516 - accuracy: 0.9474\n",
            "Epoch 29/100\n",
            "64/64 [==============================] - 0s 2ms/step - loss: 0.1508 - accuracy: 0.9471\n",
            "Epoch 30/100\n",
            "64/64 [==============================] - 0s 2ms/step - loss: 0.1492 - accuracy: 0.9457\n",
            "Epoch 31/100\n",
            "64/64 [==============================] - 0s 2ms/step - loss: 0.1478 - accuracy: 0.9467\n",
            "Epoch 32/100\n",
            "64/64 [==============================] - 0s 2ms/step - loss: 0.1460 - accuracy: 0.9486\n",
            "Epoch 33/100\n",
            "64/64 [==============================] - 0s 2ms/step - loss: 0.1471 - accuracy: 0.9459\n",
            "Epoch 34/100\n",
            "64/64 [==============================] - 0s 2ms/step - loss: 0.1454 - accuracy: 0.9454\n",
            "Epoch 35/100\n",
            "64/64 [==============================] - 0s 2ms/step - loss: 0.1429 - accuracy: 0.9479\n",
            "Epoch 36/100\n",
            "64/64 [==============================] - 0s 2ms/step - loss: 0.1407 - accuracy: 0.9494\n",
            "Epoch 37/100\n",
            "64/64 [==============================] - 0s 2ms/step - loss: 0.1401 - accuracy: 0.9484\n",
            "Epoch 38/100\n",
            "64/64 [==============================] - 0s 2ms/step - loss: 0.1385 - accuracy: 0.9489\n",
            "Epoch 39/100\n",
            "64/64 [==============================] - 0s 2ms/step - loss: 0.1371 - accuracy: 0.9496\n",
            "Epoch 40/100\n",
            "64/64 [==============================] - 0s 2ms/step - loss: 0.1370 - accuracy: 0.9494\n",
            "Epoch 41/100\n",
            "64/64 [==============================] - 0s 2ms/step - loss: 0.1354 - accuracy: 0.9496\n",
            "Epoch 42/100\n",
            "64/64 [==============================] - 0s 2ms/step - loss: 0.1339 - accuracy: 0.9511\n",
            "Epoch 43/100\n",
            "64/64 [==============================] - 0s 2ms/step - loss: 0.1339 - accuracy: 0.9506\n",
            "Epoch 44/100\n",
            "64/64 [==============================] - 0s 2ms/step - loss: 0.1332 - accuracy: 0.9499\n",
            "Epoch 45/100\n",
            "64/64 [==============================] - 0s 2ms/step - loss: 0.1317 - accuracy: 0.9528\n",
            "Epoch 46/100\n",
            "64/64 [==============================] - 0s 2ms/step - loss: 0.1299 - accuracy: 0.9531\n",
            "Epoch 47/100\n",
            "64/64 [==============================] - 0s 2ms/step - loss: 0.1284 - accuracy: 0.9526\n",
            "Epoch 48/100\n",
            "64/64 [==============================] - 0s 2ms/step - loss: 0.1280 - accuracy: 0.9521\n",
            "Epoch 49/100\n",
            "64/64 [==============================] - 0s 2ms/step - loss: 0.1263 - accuracy: 0.9543\n",
            "Epoch 50/100\n",
            "64/64 [==============================] - 0s 2ms/step - loss: 0.1259 - accuracy: 0.9546\n",
            "Epoch 51/100\n",
            "64/64 [==============================] - 0s 2ms/step - loss: 0.1250 - accuracy: 0.9536\n",
            "Epoch 52/100\n",
            "64/64 [==============================] - 0s 2ms/step - loss: 0.1227 - accuracy: 0.9541\n",
            "Epoch 53/100\n",
            "64/64 [==============================] - 0s 2ms/step - loss: 0.1231 - accuracy: 0.9558\n",
            "Epoch 54/100\n",
            "64/64 [==============================] - 0s 2ms/step - loss: 0.1225 - accuracy: 0.9546\n",
            "Epoch 55/100\n",
            "64/64 [==============================] - 0s 2ms/step - loss: 0.1212 - accuracy: 0.9570\n",
            "Epoch 56/100\n",
            "64/64 [==============================] - 0s 3ms/step - loss: 0.1195 - accuracy: 0.9570\n",
            "Epoch 57/100\n",
            "64/64 [==============================] - 0s 2ms/step - loss: 0.1192 - accuracy: 0.9575\n",
            "Epoch 58/100\n",
            "64/64 [==============================] - 0s 2ms/step - loss: 0.1174 - accuracy: 0.9595\n",
            "Epoch 59/100\n",
            "64/64 [==============================] - 0s 2ms/step - loss: 0.1169 - accuracy: 0.9585\n",
            "Epoch 60/100\n",
            "64/64 [==============================] - 0s 2ms/step - loss: 0.1155 - accuracy: 0.9597\n",
            "Epoch 61/100\n",
            "64/64 [==============================] - 0s 2ms/step - loss: 0.1144 - accuracy: 0.9580\n",
            "Epoch 62/100\n",
            "64/64 [==============================] - 0s 2ms/step - loss: 0.1143 - accuracy: 0.9612\n",
            "Epoch 63/100\n",
            "64/64 [==============================] - 0s 2ms/step - loss: 0.1143 - accuracy: 0.9595\n",
            "Epoch 64/100\n",
            "64/64 [==============================] - 0s 2ms/step - loss: 0.1134 - accuracy: 0.9610\n",
            "Epoch 65/100\n",
            "64/64 [==============================] - 0s 2ms/step - loss: 0.1125 - accuracy: 0.9583\n",
            "Epoch 66/100\n",
            "64/64 [==============================] - 0s 2ms/step - loss: 0.1103 - accuracy: 0.9612\n",
            "Epoch 67/100\n",
            "64/64 [==============================] - 0s 2ms/step - loss: 0.1087 - accuracy: 0.9625\n",
            "Epoch 68/100\n",
            "64/64 [==============================] - 0s 2ms/step - loss: 0.1079 - accuracy: 0.9615\n",
            "Epoch 69/100\n",
            "64/64 [==============================] - 0s 2ms/step - loss: 0.1088 - accuracy: 0.9610\n",
            "Epoch 70/100\n",
            "64/64 [==============================] - 0s 2ms/step - loss: 0.1063 - accuracy: 0.9637\n",
            "Epoch 71/100\n",
            "64/64 [==============================] - 0s 3ms/step - loss: 0.1045 - accuracy: 0.9649\n",
            "Epoch 72/100\n",
            "64/64 [==============================] - 0s 2ms/step - loss: 0.1036 - accuracy: 0.9642\n",
            "Epoch 73/100\n",
            "64/64 [==============================] - 0s 2ms/step - loss: 0.1038 - accuracy: 0.9639\n",
            "Epoch 74/100\n",
            "64/64 [==============================] - 0s 2ms/step - loss: 0.1024 - accuracy: 0.9639\n",
            "Epoch 75/100\n",
            "64/64 [==============================] - 0s 2ms/step - loss: 0.1015 - accuracy: 0.9644\n",
            "Epoch 76/100\n",
            "64/64 [==============================] - 0s 2ms/step - loss: 0.0993 - accuracy: 0.9649\n",
            "Epoch 77/100\n",
            "64/64 [==============================] - 0s 2ms/step - loss: 0.0989 - accuracy: 0.9654\n",
            "Epoch 78/100\n",
            "64/64 [==============================] - 0s 2ms/step - loss: 0.0995 - accuracy: 0.9664\n",
            "Epoch 79/100\n",
            "64/64 [==============================] - 0s 2ms/step - loss: 0.0967 - accuracy: 0.9679\n",
            "Epoch 80/100\n",
            "64/64 [==============================] - 0s 2ms/step - loss: 0.0956 - accuracy: 0.9662\n",
            "Epoch 81/100\n",
            "64/64 [==============================] - 0s 2ms/step - loss: 0.0949 - accuracy: 0.9667\n",
            "Epoch 82/100\n",
            "64/64 [==============================] - 0s 2ms/step - loss: 0.0943 - accuracy: 0.9679\n",
            "Epoch 83/100\n",
            "64/64 [==============================] - 0s 2ms/step - loss: 0.0931 - accuracy: 0.9676\n",
            "Epoch 84/100\n",
            "64/64 [==============================] - 0s 2ms/step - loss: 0.0946 - accuracy: 0.9686\n",
            "Epoch 85/100\n",
            "64/64 [==============================] - 0s 2ms/step - loss: 0.0917 - accuracy: 0.9672\n",
            "Epoch 86/100\n",
            "64/64 [==============================] - 0s 2ms/step - loss: 0.0913 - accuracy: 0.9679\n",
            "Epoch 87/100\n",
            "64/64 [==============================] - 0s 2ms/step - loss: 0.0907 - accuracy: 0.9674\n",
            "Epoch 88/100\n",
            "64/64 [==============================] - 0s 2ms/step - loss: 0.0901 - accuracy: 0.9704\n",
            "Epoch 89/100\n",
            "64/64 [==============================] - 0s 2ms/step - loss: 0.0891 - accuracy: 0.9686\n",
            "Epoch 90/100\n",
            "64/64 [==============================] - 0s 3ms/step - loss: 0.0917 - accuracy: 0.9662\n",
            "Epoch 91/100\n",
            "64/64 [==============================] - 0s 2ms/step - loss: 0.0876 - accuracy: 0.9686\n",
            "Epoch 92/100\n",
            "64/64 [==============================] - 0s 2ms/step - loss: 0.0866 - accuracy: 0.9684\n",
            "Epoch 93/100\n",
            "64/64 [==============================] - 0s 2ms/step - loss: 0.0852 - accuracy: 0.9701\n",
            "Epoch 94/100\n",
            "64/64 [==============================] - 0s 2ms/step - loss: 0.0850 - accuracy: 0.9679\n",
            "Epoch 95/100\n",
            "64/64 [==============================] - 0s 2ms/step - loss: 0.0834 - accuracy: 0.9691\n",
            "Epoch 96/100\n",
            "64/64 [==============================] - 0s 2ms/step - loss: 0.0843 - accuracy: 0.9706\n",
            "Epoch 97/100\n",
            "64/64 [==============================] - 0s 2ms/step - loss: 0.0824 - accuracy: 0.9711\n",
            "Epoch 98/100\n",
            "64/64 [==============================] - 0s 2ms/step - loss: 0.0822 - accuracy: 0.9716\n",
            "Epoch 99/100\n",
            "64/64 [==============================] - 0s 2ms/step - loss: 0.0810 - accuracy: 0.9714\n",
            "Epoch 100/100\n",
            "64/64 [==============================] - 0s 2ms/step - loss: 0.0798 - accuracy: 0.9723\n",
            "127/127 [==============================] - 0s 1ms/step\n",
            "32/32 [==============================] - 0s 1ms/step\n",
            "Train score is: 0.9728327982217831\n",
            "Test score is: 0.9516288252714709\n"
          ]
        }
      ]
    },
    {
      "cell_type": "code",
      "source": [
        "from sklearn.naive_bayes import GaussianNB\n",
        "model4 = GaussianNB()\n",
        "model4.fit(Train_X, Train_Y)\n",
        "\n",
        "Test_Y_pred4 = model4.predict(Test_X)\n",
        "\n",
        "print(\"Train score is:\", model4.score(Train_X, Train_Y))\n",
        "print(\"Test score is:\",model4.score(Test_X,Test_Y))"
      ],
      "metadata": {
        "colab": {
          "base_uri": "https://localhost:8080/"
        },
        "id": "MDTj7Bni7HXP",
        "outputId": "09a84161-5cde-4951-8688-a61265c76903"
      },
      "execution_count": null,
      "outputs": [
        {
          "output_type": "stream",
          "name": "stdout",
          "text": [
            "Train score is: 0.8461348481106447\n",
            "Test score is: 0.857847976307996\n"
          ]
        }
      ]
    }
  ]
}